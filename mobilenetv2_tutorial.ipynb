{
  "cells": [
    {
      "cell_type": "markdown",
      "metadata": {
        "id": "view-in-github",
        "colab_type": "text"
      },
      "source": [
        "<a href=\"https://colab.research.google.com/github/jaehong31/mobilenetv2_tutorial_2022/blob/main/mobilenetv2_tutorial.ipynb\" target=\"_parent\"><img src=\"https://colab.research.google.com/assets/colab-badge.svg\" alt=\"Open In Colab\"/></a>"
      ]
    },
    {
      "cell_type": "markdown",
      "source": [
        "# Cloning Tutorial Codes"
      ],
      "metadata": {
        "id": "u15OMQN2_wbc"
      }
    },
    {
      "cell_type": "code",
      "source": [
        "!git clone https://github.com/jaehong31/mobilenetv2_tutorial_2022.git"
      ],
      "metadata": {
        "id": "JZAT5uLCJHb8"
      },
      "execution_count": null,
      "outputs": []
    },
    {
      "cell_type": "code",
      "source": [
        "%cd mobilenetv2_tutorial_2022/src"
      ],
      "metadata": {
        "id": "GrPpyxHSJWRw"
      },
      "execution_count": null,
      "outputs": []
    },
    {
      "cell_type": "code",
      "source": [
        "!apt-get install tree\n",
        "!tree -L 3"
      ],
      "metadata": {
        "id": "4mLsMfiVAdqG"
      },
      "execution_count": null,
      "outputs": []
    },
    {
      "cell_type": "markdown",
      "source": [
        "# Install additional packages"
      ],
      "metadata": {
        "id": "g3fYS89b_-It"
      }
    },
    {
      "cell_type": "code",
      "source": [
        "!pip install timm\n",
        "!pip install -U PyYAML"
      ],
      "metadata": {
        "id": "2_10ZO6VJbT4"
      },
      "execution_count": null,
      "outputs": []
    },
    {
      "cell_type": "markdown",
      "source": [
        "# Import packages"
      ],
      "metadata": {
        "id": "8DrJhGwWAD1r"
      }
    },
    {
      "cell_type": "code",
      "source": [
        "from arguments import get_args\n",
        "from models import get_model\n",
        "from datasets import get_dataset\n",
        "import time, datetime\n",
        "import torch.distributed as dist\n",
        "from logger import create_logger\n",
        "import numpy as np\n",
        "import torch    "
      ],
      "metadata": {
        "id": "a2P13li7JdB2"
      },
      "execution_count": 21,
      "outputs": []
    },
    {
      "cell_type": "markdown",
      "source": [
        "# Get arguments (Please see `arguments.py` and `configs/base_cifar10.yaml`)"
      ],
      "metadata": {
        "id": "5nvWVHhcAI_S"
      }
    },
    {
      "cell_type": "code",
      "source": [
        "args = get_args()\n",
        "logger = create_logger(output_dir=args.log_dir, name=f\"{args.tag}\")   \n",
        "args.train.base_lr = float(args.train.base_lr) * args.train.batch_size / 512 \n",
        "args.train.warmup_lr = float(args.train.warmup_lr) * args.train.batch_size / 512 \n",
        "args.train.min_lr = float(args.train.min_lr) * args.train.batch_size / 512 "
      ],
      "metadata": {
        "id": "O0ZuWk38JnaG"
      },
      "execution_count": null,
      "outputs": []
    },
    {
      "cell_type": "markdown",
      "source": [
        "# Get Datasets and Models"
      ],
      "metadata": {
        "id": "wnOZKBqgAUN0"
      }
    },
    {
      "cell_type": "markdown",
      "source": [
        "MobileNet-v2 is implemented in: `models/backbones/MobileNetV2.py`\n",
        "\n",
        "Basic model formulation for training including optimizer and lr_scheduler is implemented in: `models/utils/model.py`\n",
        "\n",
        "\n"
      ],
      "metadata": {
        "id": "sUCR501rCGFq"
      }
    },
    {
      "cell_type": "code",
      "source": [
        "dataset = get_dataset(args)\n",
        "train_loader, test_loader = dataset.get_data_loaders() \n",
        "len_train_loader = len(train_loader)\n",
        "model = get_model(args, len_train_loader, logger)"
      ],
      "metadata": {
        "id": "s1bn6jsxJl9-"
      },
      "execution_count": null,
      "outputs": []
    },
    {
      "cell_type": "markdown",
      "source": [
        "# Define Evaluation Function"
      ],
      "metadata": {
        "id": "AOeP7LtFB5NV"
      }
    },
    {
      "cell_type": "code",
      "source": [
        "@torch.no_grad()\n",
        "def evaluate(model, test_loader, logger, loss=torch.nn.CrossEntropyLoss()):    \n",
        "    sparsify_weights(args, model, logger)\n",
        "\n",
        "    corrects, totals = 0, 0\n",
        "    for images, labels in test_loader:\n",
        "        preds = model(images.to(args.device))\n",
        "        test_loss = loss(preds, labels.to(args.device))\n",
        "        \n",
        "        preds = preds.argmax(dim=1)\n",
        "        correct = (preds == labels.to(args.device)).sum().item()               \n",
        "        \n",
        "        corrects += correct\n",
        "        totals += preds.shape[0]\n",
        "    logger.info(f'Accuracy: {(corrects/totals)*100:.2f} % ({corrects}/{totals}), Test Loss: {test_loss:.4f}')\n",
        "\n",
        "\n",
        "def sparsify_weights(args, model, logger):\n",
        "    # TODO \n",
        "    # 1. if pruning methods are applied, update the weights to be sparse given threshold (args.hyperparameters.XXXX.thr)\n",
        "    # 2. print weight sparsity (%) using logger.info() (excluding batchnorm params and biases)\n",
        "    pass"
      ],
      "metadata": {
        "id": "KCao01OhgaMx"
      },
      "execution_count": 24,
      "outputs": []
    },
    {
      "cell_type": "markdown",
      "source": [
        "# Training MobileNet-V2"
      ],
      "metadata": {
        "id": "vAGOOqAcCBJk"
      }
    },
    {
      "cell_type": "code",
      "source": [
        "if hasattr(model, 'set_task'):\n",
        "    logger.info(f'set task')      \n",
        "    model.set_task()\n",
        "  \n",
        "start_time = time.time()\n",
        "for epoch in range(0, args.train.num_epochs):\n",
        "    start = time.time()\n",
        "    model.train()\n",
        "\n",
        "    tr_losses = 0.\n",
        "    tr_p_losses = 0.\n",
        "    # training phase\n",
        "    for idx, (images, labels) in enumerate(train_loader):\n",
        "        data_dict = model.observe(images, labels)\n",
        "        tr_losses += data_dict['loss']\n",
        "        tr_p_losses += data_dict['penalty']                \n",
        "\n",
        "    if (epoch + 1) % args.eval.interval_epochs == 0:\n",
        "        evaluate(model, test_loader, logger)\n",
        "\n",
        "    epoch_time = time.time() - start\n",
        "    logger.info(f\"EPOCH {epoch} training takes {datetime.timedelta(seconds=int(epoch_time))}\")\n",
        "    logger.info('LR: {}, \\\n",
        "                        TR_LOSS: {}, TR_P_LOSS: {}'.format(\n",
        "                            np.round(data_dict['lr'],6), \n",
        "                            np.round(tr_losses/len_train_loader, 4), \n",
        "                            np.round(tr_p_losses/len_train_loader, 4)))\n",
        "\n",
        "if hasattr(model, 'end_task'):\n",
        "    logger.info(f'end task')      \n",
        "    model.set_task()\n",
        "\n",
        "total_time = time.time() - start_time\n",
        "total_time_str = str(datetime.timedelta(seconds=int(total_time)))\n",
        "logger.info(f'TOTAL TRAINING TIME {total_time_str}')"
      ],
      "metadata": {
        "id": "p0sDydkVcZYM"
      },
      "execution_count": null,
      "outputs": []
    },
    {
      "cell_type": "markdown",
      "source": [
        "# **[TODO] Implement L1 Norm during Training**\n",
        "1. Implement the penalty term in `models/l1norm.py`\n",
        "2. Change model.method to ***L1NORM*** in `configs/base_cifar10.yaml`\n",
        "3. Implement ***sparsity_weights*** function\n",
        "4. Control hyperparameters"
      ],
      "metadata": {
        "id": "PvtbXh6rC-GT"
      }
    },
    {
      "cell_type": "markdown",
      "source": [
        "# **[TODO] Implement Grouped Norm (a.k.a, Structured Sparsity) during Training**\n",
        "Same process"
      ],
      "metadata": {
        "id": "7xm0SWjfKuTD"
      }
    }
  ],
  "metadata": {
    "accelerator": "GPU",
    "colab": {
      "name": "Untitled0.ipynb",
      "provenance": [],
      "collapsed_sections": [],
      "authorship_tag": "ABX9TyOCbv8nFNTXFo4NBLAyO25F",
      "include_colab_link": true
    },
    "gpuClass": "standard",
    "kernelspec": {
      "display_name": "Python 3",
      "name": "python3"
    },
    "language_info": {
      "name": "python"
    }
  },
  "nbformat": 4,
  "nbformat_minor": 0
}