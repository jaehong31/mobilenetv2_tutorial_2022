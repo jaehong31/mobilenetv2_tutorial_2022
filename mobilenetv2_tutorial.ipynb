{
  "cells": [
    {
      "cell_type": "markdown",
      "metadata": {
        "id": "view-in-github",
        "colab_type": "text"
      },
      "source": [
        "<a href=\"https://colab.research.google.com/github/jaehong31/mobilenetv2_tutorial_2022/blob/main/mobilenetv2_tutorial.ipynb\" target=\"_parent\"><img src=\"https://colab.research.google.com/assets/colab-badge.svg\" alt=\"Open In Colab\"/></a>"
      ]
    },
    {
      "cell_type": "code",
      "source": [
        "!git clone https://github.com/jaehong31/mobilenetv2_tutorial_2022.git"
      ],
      "metadata": {
        "colab": {
          "base_uri": "https://localhost:8080/"
        },
        "id": "JZAT5uLCJHb8",
        "outputId": "7b173d1f-cadf-440a-e000-abead7702e5f"
      },
      "execution_count": null,
      "outputs": [
        {
          "output_type": "stream",
          "name": "stdout",
          "text": [
            "Cloning into 'mobilenetv2_tutorial_2022'...\n",
            "remote: Enumerating objects: 185, done.\u001b[K\n",
            "remote: Counting objects: 100% (185/185), done.\u001b[K\n",
            "remote: Compressing objects: 100% (163/163), done.\u001b[K\n",
            "remote: Total 185 (delta 19), reused 182 (delta 19), pack-reused 0\u001b[K\n",
            "Receiving objects: 100% (185/185), 267.58 KiB | 12.74 MiB/s, done.\n",
            "Resolving deltas: 100% (19/19), done.\n"
          ]
        }
      ]
    },
    {
      "cell_type": "code",
      "source": [
        "%cd mobilenetv2_tutorial_2022/src"
      ],
      "metadata": {
        "colab": {
          "base_uri": "https://localhost:8080/"
        },
        "id": "GrPpyxHSJWRw",
        "outputId": "31e01847-7cab-48be-93c5-cee4ac6b490f"
      },
      "execution_count": null,
      "outputs": [
        {
          "output_type": "stream",
          "name": "stdout",
          "text": [
            "/content/mobilenetv2_tutorial_2022/src\n"
          ]
        }
      ]
    },
    {
      "cell_type": "code",
      "source": [
        "!pip install timm\n",
        "!pip install -U PyYAML"
      ],
      "metadata": {
        "colab": {
          "base_uri": "https://localhost:8080/"
        },
        "id": "2_10ZO6VJbT4",
        "outputId": "e93bce87-34f6-4640-fdaf-02342d1d795a"
      },
      "execution_count": null,
      "outputs": [
        {
          "output_type": "stream",
          "name": "stdout",
          "text": [
            "Looking in indexes: https://pypi.org/simple, https://us-python.pkg.dev/colab-wheels/public/simple/\n",
            "Collecting timm\n",
            "  Downloading timm-0.5.4-py3-none-any.whl (431 kB)\n",
            "\u001b[K     |████████████████████████████████| 431 kB 7.6 MB/s \n",
            "\u001b[?25hRequirement already satisfied: torch>=1.4 in /usr/local/lib/python3.7/dist-packages (from timm) (1.11.0+cu113)\n",
            "Requirement already satisfied: torchvision in /usr/local/lib/python3.7/dist-packages (from timm) (0.12.0+cu113)\n",
            "Requirement already satisfied: typing-extensions in /usr/local/lib/python3.7/dist-packages (from torch>=1.4->timm) (4.2.0)\n",
            "Requirement already satisfied: requests in /usr/local/lib/python3.7/dist-packages (from torchvision->timm) (2.23.0)\n",
            "Requirement already satisfied: numpy in /usr/local/lib/python3.7/dist-packages (from torchvision->timm) (1.21.6)\n",
            "Requirement already satisfied: pillow!=8.3.*,>=5.3.0 in /usr/local/lib/python3.7/dist-packages (from torchvision->timm) (7.1.2)\n",
            "Requirement already satisfied: chardet<4,>=3.0.2 in /usr/local/lib/python3.7/dist-packages (from requests->torchvision->timm) (3.0.4)\n",
            "Requirement already satisfied: idna<3,>=2.5 in /usr/local/lib/python3.7/dist-packages (from requests->torchvision->timm) (2.10)\n",
            "Requirement already satisfied: urllib3!=1.25.0,!=1.25.1,<1.26,>=1.21.1 in /usr/local/lib/python3.7/dist-packages (from requests->torchvision->timm) (1.24.3)\n",
            "Requirement already satisfied: certifi>=2017.4.17 in /usr/local/lib/python3.7/dist-packages (from requests->torchvision->timm) (2022.5.18.1)\n",
            "Installing collected packages: timm\n",
            "Successfully installed timm-0.5.4\n",
            "Looking in indexes: https://pypi.org/simple, https://us-python.pkg.dev/colab-wheels/public/simple/\n",
            "Requirement already satisfied: PyYAML in /usr/local/lib/python3.7/dist-packages (3.13)\n",
            "Collecting PyYAML\n",
            "  Downloading PyYAML-6.0-cp37-cp37m-manylinux_2_5_x86_64.manylinux1_x86_64.manylinux_2_12_x86_64.manylinux2010_x86_64.whl (596 kB)\n",
            "\u001b[K     |████████████████████████████████| 596 kB 9.3 MB/s \n",
            "\u001b[?25hInstalling collected packages: PyYAML\n",
            "  Attempting uninstall: PyYAML\n",
            "    Found existing installation: PyYAML 3.13\n",
            "    Uninstalling PyYAML-3.13:\n",
            "      Successfully uninstalled PyYAML-3.13\n",
            "Successfully installed PyYAML-6.0\n"
          ]
        }
      ]
    },
    {
      "cell_type": "code",
      "source": [
        "!pwd"
      ],
      "metadata": {
        "colab": {
          "base_uri": "https://localhost:8080/"
        },
        "id": "cKkaQyJbb5jd",
        "outputId": "6086040c-0bb1-4102-f924-b96f356b9b0a"
      },
      "execution_count": null,
      "outputs": [
        {
          "output_type": "stream",
          "name": "stdout",
          "text": [
            "/content\n"
          ]
        }
      ]
    },
    {
      "cell_type": "code",
      "source": [
        "from arguments import get_args\n",
        "from models import get_model\n",
        "from datasets import get_dataset\n",
        "import time, datetime\n",
        "import torch.distributed as dist\n",
        "from logger import create_logger\n",
        "import numpy as np\n",
        "import torch    "
      ],
      "metadata": {
        "id": "a2P13li7JdB2"
      },
      "execution_count": null,
      "outputs": []
    },
    {
      "cell_type": "code",
      "source": [
        "args = get_args()\n",
        "logger = create_logger(output_dir=args.log_dir, name=f\"{args.tag}\")   \n",
        "args.train.base_lr = float(args.train.base_lr) * args.train.batch_size / 512 \n",
        "args.train.warmup_lr = float(args.train.warmup_lr) * args.train.batch_size / 512 \n",
        "args.train.min_lr = float(args.train.min_lr) * args.train.batch_size / 512 "
      ],
      "metadata": {
        "colab": {
          "base_uri": "https://localhost:8080/"
        },
        "id": "O0ZuWk38JnaG",
        "outputId": "5ddfa752-0db6-4ed1-f444-a3a67c098194"
      },
      "execution_count": null,
      "outputs": [
        {
          "output_type": "stream",
          "name": "stdout",
          "text": [
            "creating file ../logs/in-progress_0616025656_CIFAR10-MobileNetV2\n",
            "##########################################################################################################################################\n",
            "args-name CIFAR10-MobileNetV2\n",
            "args-log_dir ../logs/in-progress_0616025656_CIFAR10-MobileNetV2\n",
            "args-ckpt_dir ../cache/CIFAR10-MobileNetV2\n",
            "##########################################################################################################################################\n"
          ]
        }
      ]
    },
    {
      "cell_type": "code",
      "source": [
        "dataset = get_dataset(args)\n",
        "train_loader, test_loader = dataset.get_data_loaders() \n",
        "len_train_loader = len(train_loader)\n",
        "model = get_model(args, len_train_loader, logger)"
      ],
      "metadata": {
        "colab": {
          "base_uri": "https://localhost:8080/",
          "height": 200,
          "referenced_widgets": [
            "381456e0e4854e1e9ff3dfe009d5b612",
            "a1886a18738e4958b967ae00308b3dfd",
            "6cf19efc2a434c8c883fc09d38ebeaee",
            "9849e212c23b42d3b6e62e07dd7c9078",
            "e23b4c8dba26471789b4ea518830c6d9",
            "c2c28732e9924591957fc90b4cae76b7",
            "e18de1b62e484771831b92e61f81215b",
            "d0ae37c9718f48f8b7aeca6101c32d08",
            "88933d3b2780485db6ae09dc33ae8474",
            "ac577eba61f4469fbd8696b6c13cd8c9",
            "784f61ace0a540059debb0513e803e49"
          ]
        },
        "id": "s1bn6jsxJl9-",
        "outputId": "4e87e41e-a4c8-4816-8f22-ee025d2124fa"
      },
      "execution_count": null,
      "outputs": [
        {
          "output_type": "stream",
          "name": "stdout",
          "text": [
            "Downloading https://www.cs.toronto.edu/~kriz/cifar-10-python.tar.gz to ../data/CIFAR10/cifar-10-python.tar.gz\n"
          ]
        },
        {
          "output_type": "display_data",
          "data": {
            "text/plain": [
              "  0%|          | 0/170498071 [00:00<?, ?it/s]"
            ],
            "application/vnd.jupyter.widget-view+json": {
              "version_major": 2,
              "version_minor": 0,
              "model_id": "381456e0e4854e1e9ff3dfe009d5b612"
            }
          },
          "metadata": {}
        },
        {
          "output_type": "stream",
          "name": "stdout",
          "text": [
            "Extracting ../data/CIFAR10/cifar-10-python.tar.gz to ../data/CIFAR10\n",
            "Files already downloaded and verified\n"
          ]
        },
        {
          "output_type": "stream",
          "name": "stderr",
          "text": [
            "/usr/local/lib/python3.7/dist-packages/torch/utils/data/dataloader.py:490: UserWarning: This DataLoader will create 4 worker processes in total. Our suggested max number of worker in current system is 2, which is smaller than what this DataLoader is going to create. Please be aware that excessive worker creation might get DataLoader running slow or even freeze, lower the worker number to avoid potential slowness/freeze if necessary.\n",
            "  cpuset_checked))\n"
          ]
        },
        {
          "output_type": "stream",
          "name": "stdout",
          "text": [
            "backbone info: mobilenetv2\n",
            "self.n_classes 10\n"
          ]
        }
      ]
    },
    {
      "cell_type": "code",
      "source": [
        "@torch.no_grad()\n",
        "def evaluate(model, test_loader, logger, loss=torch.nn.CrossEntropyLoss()):\n",
        "    corrects, totals = 0, 0\n",
        "    for images, labels in test_loader:\n",
        "        preds = model(images.to(args.device))\n",
        "        test_loss = loss(preds, labels.to(args.device))\n",
        "        \n",
        "        preds = preds.argmax(dim=1)\n",
        "        correct = (preds == labels.to(args.device)).sum().item()               \n",
        "        \n",
        "        corrects += correct\n",
        "        totals += preds.shape[0]\n",
        "    logger.info(f'Accuracy: {(corrects/totals)*100:.2f} % ({corrects}/{totals}), Test Loss: {test_loss:.4f}')\n",
        "        "
      ],
      "metadata": {
        "id": "KCao01OhgaMx"
      },
      "execution_count": null,
      "outputs": []
    },
    {
      "cell_type": "code",
      "source": [
        "if hasattr(model, 'set_task'):\n",
        "    logger.info(f'set task')      \n",
        "    model.set_task()\n",
        "  \n",
        "start_time = time.time()\n",
        "for epoch in range(0, args.train.num_epochs):\n",
        "    start = time.time()\n",
        "    model.train()\n",
        "\n",
        "    tr_losses = 0.\n",
        "    tr_p_losses = 0.\n",
        "    # training phase\n",
        "    for idx, (images, labels) in enumerate(train_loader):\n",
        "        data_dict = model.observe(images, labels)\n",
        "        tr_losses += data_dict['loss']\n",
        "        tr_p_losses += data_dict['penalty']                \n",
        "\n",
        "    if (epoch + 1) % args.eval.interval_epochs == 0:\n",
        "        evaluate(model, test_loader, logger)\n",
        "\n",
        "    epoch_time = time.time() - start\n",
        "    logger.info(f\"EPOCH {epoch} training takes {datetime.timedelta(seconds=int(epoch_time))}\")\n",
        "    logger.info('LR: {}, \\\n",
        "                        TR_LOSS: {}, TR_P_LOSS: {}'.format(\n",
        "                            np.round(data_dict['lr'],6), \n",
        "                            np.round(tr_losses/len_train_loader, 4), \n",
        "                            np.round(tr_p_losses/len_train_loader, 4)))\n",
        "\n",
        "if hasattr(model, 'end_task'):\n",
        "    logger.info(f'end task')      \n",
        "    model.set_task()\n",
        "\n",
        "total_time = time.time() - start_time\n",
        "total_time_str = str(datetime.timedelta(seconds=int(total_time)))\n",
        "logger.info(f'TOTAL TRAINING TIME {total_time_str}')"
      ],
      "metadata": {
        "colab": {
          "base_uri": "https://localhost:8080/"
        },
        "id": "p0sDydkVcZYM",
        "outputId": "f5cfa203-4014-499f-dfb8-e5fca3303d25"
      },
      "execution_count": null,
      "outputs": [
        {
          "output_type": "stream",
          "name": "stdout",
          "text": [
            "\u001b[32m[2022-06-16 03:14:56 root]\u001b[0m\u001b[33m(<ipython-input-17-b0f1d4fcdbdd> 2)\u001b[0m: INFO set task\n",
            "\u001b[32m[2022-06-16 03:14:56 root]\u001b[0m\u001b[33m(model.py 53)\u001b[0m: INFO optimizer_type: adam,                         warmup_lr: 1.25e-05,                         base_lr: 0.0025,                         final_lr: 0.000125\n",
            "\u001b[32m[2022-06-16 03:14:56 root]\u001b[0m\u001b[33m(model.py 61)\u001b[0m: INFO OPTIMIZER is defined.\n"
          ]
        },
        {
          "output_type": "stream",
          "name": "stderr",
          "text": [
            "/usr/local/lib/python3.7/dist-packages/torch/utils/data/dataloader.py:490: UserWarning: This DataLoader will create 4 worker processes in total. Our suggested max number of worker in current system is 2, which is smaller than what this DataLoader is going to create. Please be aware that excessive worker creation might get DataLoader running slow or even freeze, lower the worker number to avoid potential slowness/freeze if necessary.\n",
            "  cpuset_checked))\n"
          ]
        },
        {
          "output_type": "stream",
          "name": "stdout",
          "text": [
            "\u001b[32m[2022-06-16 03:15:53 root]\u001b[0m\u001b[33m(<ipython-input-16-6103356d1b99> 15)\u001b[0m: INFO Accuracy: 52.26 % (5226/10000), Test Loss: 1.7029\n",
            "\u001b[32m[2022-06-16 03:15:53 root]\u001b[0m\u001b[33m(<ipython-input-17-b0f1d4fcdbdd> 22)\u001b[0m: INFO EPOCH 0 training takes 0:00:57\n",
            "\u001b[32m[2022-06-16 03:15:53 root]\u001b[0m\u001b[33m(<ipython-input-17-b0f1d4fcdbdd> 26)\u001b[0m: INFO LR: 0.000509,                         TR_LOSS: 1.5464, TR_P_LOSS: 0.0\n",
            "\u001b[32m[2022-06-16 03:16:50 root]\u001b[0m\u001b[33m(<ipython-input-16-6103356d1b99> 15)\u001b[0m: INFO Accuracy: 61.44 % (6144/10000), Test Loss: 1.1900\n",
            "\u001b[32m[2022-06-16 03:16:50 root]\u001b[0m\u001b[33m(<ipython-input-17-b0f1d4fcdbdd> 22)\u001b[0m: INFO EPOCH 1 training takes 0:00:56\n",
            "\u001b[32m[2022-06-16 03:16:50 root]\u001b[0m\u001b[33m(<ipython-input-17-b0f1d4fcdbdd> 26)\u001b[0m: INFO LR: 0.001007,                         TR_LOSS: 1.1825, TR_P_LOSS: 0.0\n",
            "\u001b[32m[2022-06-16 03:17:46 root]\u001b[0m\u001b[33m(<ipython-input-16-6103356d1b99> 15)\u001b[0m: INFO Accuracy: 66.81 % (6681/10000), Test Loss: 0.9118\n",
            "\u001b[32m[2022-06-16 03:17:46 root]\u001b[0m\u001b[33m(<ipython-input-17-b0f1d4fcdbdd> 22)\u001b[0m: INFO EPOCH 2 training takes 0:00:56\n",
            "\u001b[32m[2022-06-16 03:17:46 root]\u001b[0m\u001b[33m(<ipython-input-17-b0f1d4fcdbdd> 26)\u001b[0m: INFO LR: 0.001504,                         TR_LOSS: 0.9747, TR_P_LOSS: 0.0\n",
            "\u001b[32m[2022-06-16 03:18:43 root]\u001b[0m\u001b[33m(<ipython-input-16-6103356d1b99> 15)\u001b[0m: INFO Accuracy: 72.07 % (7207/10000), Test Loss: 1.0064\n",
            "\u001b[32m[2022-06-16 03:18:43 root]\u001b[0m\u001b[33m(<ipython-input-17-b0f1d4fcdbdd> 22)\u001b[0m: INFO EPOCH 3 training takes 0:00:56\n",
            "\u001b[32m[2022-06-16 03:18:43 root]\u001b[0m\u001b[33m(<ipython-input-17-b0f1d4fcdbdd> 26)\u001b[0m: INFO LR: 0.002002,                         TR_LOSS: 0.8249, TR_P_LOSS: 0.0\n",
            "\u001b[32m[2022-06-16 03:19:39 root]\u001b[0m\u001b[33m(<ipython-input-16-6103356d1b99> 15)\u001b[0m: INFO Accuracy: 74.41 % (7441/10000), Test Loss: 1.1841\n",
            "\u001b[32m[2022-06-16 03:19:39 root]\u001b[0m\u001b[33m(<ipython-input-17-b0f1d4fcdbdd> 22)\u001b[0m: INFO EPOCH 4 training takes 0:00:56\n",
            "\u001b[32m[2022-06-16 03:19:39 root]\u001b[0m\u001b[33m(<ipython-input-17-b0f1d4fcdbdd> 26)\u001b[0m: INFO LR: 0.0025,                         TR_LOSS: 0.7316, TR_P_LOSS: 0.0\n",
            "\u001b[32m[2022-06-16 03:20:35 root]\u001b[0m\u001b[33m(<ipython-input-16-6103356d1b99> 15)\u001b[0m: INFO Accuracy: 76.17 % (7617/10000), Test Loss: 0.7042\n",
            "\u001b[32m[2022-06-16 03:20:35 root]\u001b[0m\u001b[33m(<ipython-input-17-b0f1d4fcdbdd> 22)\u001b[0m: INFO EPOCH 5 training takes 0:00:56\n",
            "\u001b[32m[2022-06-16 03:20:35 root]\u001b[0m\u001b[33m(<ipython-input-17-b0f1d4fcdbdd> 26)\u001b[0m: INFO LR: 0.002474,                         TR_LOSS: 0.6497, TR_P_LOSS: 0.0\n",
            "\u001b[32m[2022-06-16 03:21:31 root]\u001b[0m\u001b[33m(<ipython-input-16-6103356d1b99> 15)\u001b[0m: INFO Accuracy: 78.59 % (7859/10000), Test Loss: 1.0991\n",
            "\u001b[32m[2022-06-16 03:21:31 root]\u001b[0m\u001b[33m(<ipython-input-17-b0f1d4fcdbdd> 22)\u001b[0m: INFO EPOCH 6 training takes 0:00:56\n",
            "\u001b[32m[2022-06-16 03:21:31 root]\u001b[0m\u001b[33m(<ipython-input-17-b0f1d4fcdbdd> 26)\u001b[0m: INFO LR: 0.002398,                         TR_LOSS: 0.5719, TR_P_LOSS: 0.0\n",
            "\u001b[32m[2022-06-16 03:22:28 root]\u001b[0m\u001b[33m(<ipython-input-16-6103356d1b99> 15)\u001b[0m: INFO Accuracy: 79.72 % (7972/10000), Test Loss: 0.8947\n",
            "\u001b[32m[2022-06-16 03:22:28 root]\u001b[0m\u001b[33m(<ipython-input-17-b0f1d4fcdbdd> 22)\u001b[0m: INFO EPOCH 7 training takes 0:00:56\n",
            "\u001b[32m[2022-06-16 03:22:28 root]\u001b[0m\u001b[33m(<ipython-input-17-b0f1d4fcdbdd> 26)\u001b[0m: INFO LR: 0.002274,                         TR_LOSS: 0.5261, TR_P_LOSS: 0.0\n",
            "\u001b[32m[2022-06-16 03:23:24 root]\u001b[0m\u001b[33m(<ipython-input-16-6103356d1b99> 15)\u001b[0m: INFO Accuracy: 79.69 % (7969/10000), Test Loss: 0.6140\n",
            "\u001b[32m[2022-06-16 03:23:24 root]\u001b[0m\u001b[33m(<ipython-input-17-b0f1d4fcdbdd> 22)\u001b[0m: INFO EPOCH 8 training takes 0:00:56\n",
            "\u001b[32m[2022-06-16 03:23:24 root]\u001b[0m\u001b[33m(<ipython-input-17-b0f1d4fcdbdd> 26)\u001b[0m: INFO LR: 0.002108,                         TR_LOSS: 0.4825, TR_P_LOSS: 0.0\n",
            "\u001b[32m[2022-06-16 03:24:20 root]\u001b[0m\u001b[33m(<ipython-input-16-6103356d1b99> 15)\u001b[0m: INFO Accuracy: 80.81 % (8081/10000), Test Loss: 0.7399\n",
            "\u001b[32m[2022-06-16 03:24:20 root]\u001b[0m\u001b[33m(<ipython-input-17-b0f1d4fcdbdd> 22)\u001b[0m: INFO EPOCH 9 training takes 0:00:56\n",
            "\u001b[32m[2022-06-16 03:24:20 root]\u001b[0m\u001b[33m(<ipython-input-17-b0f1d4fcdbdd> 26)\u001b[0m: INFO LR: 0.001907,                         TR_LOSS: 0.4404, TR_P_LOSS: 0.0\n",
            "\u001b[32m[2022-06-16 03:25:17 root]\u001b[0m\u001b[33m(<ipython-input-16-6103356d1b99> 15)\u001b[0m: INFO Accuracy: 81.39 % (8139/10000), Test Loss: 0.8672\n",
            "\u001b[32m[2022-06-16 03:25:17 root]\u001b[0m\u001b[33m(<ipython-input-17-b0f1d4fcdbdd> 22)\u001b[0m: INFO EPOCH 10 training takes 0:00:56\n",
            "\u001b[32m[2022-06-16 03:25:17 root]\u001b[0m\u001b[33m(<ipython-input-17-b0f1d4fcdbdd> 26)\u001b[0m: INFO LR: 0.00168,                         TR_LOSS: 0.4052, TR_P_LOSS: 0.0\n",
            "\u001b[32m[2022-06-16 03:26:13 root]\u001b[0m\u001b[33m(<ipython-input-16-6103356d1b99> 15)\u001b[0m: INFO Accuracy: 83.68 % (8368/10000), Test Loss: 1.1840\n",
            "\u001b[32m[2022-06-16 03:26:13 root]\u001b[0m\u001b[33m(<ipython-input-17-b0f1d4fcdbdd> 22)\u001b[0m: INFO EPOCH 11 training takes 0:00:56\n",
            "\u001b[32m[2022-06-16 03:26:13 root]\u001b[0m\u001b[33m(<ipython-input-17-b0f1d4fcdbdd> 26)\u001b[0m: INFO LR: 0.001437,                         TR_LOSS: 0.3674, TR_P_LOSS: 0.0\n",
            "\u001b[32m[2022-06-16 03:27:10 root]\u001b[0m\u001b[33m(<ipython-input-16-6103356d1b99> 15)\u001b[0m: INFO Accuracy: 83.63 % (8363/10000), Test Loss: 0.9711\n",
            "\u001b[32m[2022-06-16 03:27:10 root]\u001b[0m\u001b[33m(<ipython-input-17-b0f1d4fcdbdd> 22)\u001b[0m: INFO EPOCH 12 training takes 0:00:56\n",
            "\u001b[32m[2022-06-16 03:27:10 root]\u001b[0m\u001b[33m(<ipython-input-17-b0f1d4fcdbdd> 26)\u001b[0m: INFO LR: 0.001189,                         TR_LOSS: 0.3359, TR_P_LOSS: 0.0\n",
            "\u001b[32m[2022-06-16 03:28:06 root]\u001b[0m\u001b[33m(<ipython-input-16-6103356d1b99> 15)\u001b[0m: INFO Accuracy: 84.69 % (8469/10000), Test Loss: 0.9960\n",
            "\u001b[32m[2022-06-16 03:28:06 root]\u001b[0m\u001b[33m(<ipython-input-17-b0f1d4fcdbdd> 22)\u001b[0m: INFO EPOCH 13 training takes 0:00:56\n",
            "\u001b[32m[2022-06-16 03:28:06 root]\u001b[0m\u001b[33m(<ipython-input-17-b0f1d4fcdbdd> 26)\u001b[0m: INFO LR: 0.000946,                         TR_LOSS: 0.2993, TR_P_LOSS: 0.0\n",
            "\u001b[32m[2022-06-16 03:29:02 root]\u001b[0m\u001b[33m(<ipython-input-16-6103356d1b99> 15)\u001b[0m: INFO Accuracy: 85.46 % (8546/10000), Test Loss: 1.2976\n",
            "\u001b[32m[2022-06-16 03:29:02 root]\u001b[0m\u001b[33m(<ipython-input-17-b0f1d4fcdbdd> 22)\u001b[0m: INFO EPOCH 14 training takes 0:00:56\n",
            "\u001b[32m[2022-06-16 03:29:02 root]\u001b[0m\u001b[33m(<ipython-input-17-b0f1d4fcdbdd> 26)\u001b[0m: INFO LR: 0.000719,                         TR_LOSS: 0.2689, TR_P_LOSS: 0.0\n",
            "\u001b[32m[2022-06-16 03:29:59 root]\u001b[0m\u001b[33m(<ipython-input-16-6103356d1b99> 15)\u001b[0m: INFO Accuracy: 86.70 % (8670/10000), Test Loss: 1.1175\n",
            "\u001b[32m[2022-06-16 03:29:59 root]\u001b[0m\u001b[33m(<ipython-input-17-b0f1d4fcdbdd> 22)\u001b[0m: INFO EPOCH 15 training takes 0:00:56\n",
            "\u001b[32m[2022-06-16 03:29:59 root]\u001b[0m\u001b[33m(<ipython-input-17-b0f1d4fcdbdd> 26)\u001b[0m: INFO LR: 0.000518,                         TR_LOSS: 0.2307, TR_P_LOSS: 0.0\n",
            "\u001b[32m[2022-06-16 03:30:55 root]\u001b[0m\u001b[33m(<ipython-input-16-6103356d1b99> 15)\u001b[0m: INFO Accuracy: 86.96 % (8696/10000), Test Loss: 1.2356\n",
            "\u001b[32m[2022-06-16 03:30:55 root]\u001b[0m\u001b[33m(<ipython-input-17-b0f1d4fcdbdd> 22)\u001b[0m: INFO EPOCH 16 training takes 0:00:56\n",
            "\u001b[32m[2022-06-16 03:30:55 root]\u001b[0m\u001b[33m(<ipython-input-17-b0f1d4fcdbdd> 26)\u001b[0m: INFO LR: 0.000352,                         TR_LOSS: 0.2016, TR_P_LOSS: 0.0\n",
            "\u001b[32m[2022-06-16 03:31:52 root]\u001b[0m\u001b[33m(<ipython-input-16-6103356d1b99> 15)\u001b[0m: INFO Accuracy: 87.73 % (8773/10000), Test Loss: 1.3766\n",
            "\u001b[32m[2022-06-16 03:31:52 root]\u001b[0m\u001b[33m(<ipython-input-17-b0f1d4fcdbdd> 22)\u001b[0m: INFO EPOCH 17 training takes 0:00:56\n",
            "\u001b[32m[2022-06-16 03:31:52 root]\u001b[0m\u001b[33m(<ipython-input-17-b0f1d4fcdbdd> 26)\u001b[0m: INFO LR: 0.000228,                         TR_LOSS: 0.1802, TR_P_LOSS: 0.0\n",
            "\u001b[32m[2022-06-16 03:32:48 root]\u001b[0m\u001b[33m(<ipython-input-16-6103356d1b99> 15)\u001b[0m: INFO Accuracy: 87.64 % (8764/10000), Test Loss: 1.3302\n",
            "\u001b[32m[2022-06-16 03:32:48 root]\u001b[0m\u001b[33m(<ipython-input-17-b0f1d4fcdbdd> 22)\u001b[0m: INFO EPOCH 18 training takes 0:00:56\n",
            "\u001b[32m[2022-06-16 03:32:48 root]\u001b[0m\u001b[33m(<ipython-input-17-b0f1d4fcdbdd> 26)\u001b[0m: INFO LR: 0.000151,                         TR_LOSS: 0.1584, TR_P_LOSS: 0.0\n",
            "\u001b[32m[2022-06-16 03:33:44 root]\u001b[0m\u001b[33m(<ipython-input-16-6103356d1b99> 15)\u001b[0m: INFO Accuracy: 87.99 % (8799/10000), Test Loss: 1.5558\n",
            "\u001b[32m[2022-06-16 03:33:44 root]\u001b[0m\u001b[33m(<ipython-input-17-b0f1d4fcdbdd> 22)\u001b[0m: INFO EPOCH 19 training takes 0:00:56\n",
            "\u001b[32m[2022-06-16 03:33:44 root]\u001b[0m\u001b[33m(<ipython-input-17-b0f1d4fcdbdd> 26)\u001b[0m: INFO LR: 0.000125,                         TR_LOSS: 0.1478, TR_P_LOSS: 0.0\n",
            "\u001b[32m[2022-06-16 03:33:44 root]\u001b[0m\u001b[33m(<ipython-input-17-b0f1d4fcdbdd> 29)\u001b[0m: INFO end task\n",
            "\u001b[32m[2022-06-16 03:33:44 root]\u001b[0m\u001b[33m(model.py 53)\u001b[0m: INFO optimizer_type: adam,                         warmup_lr: 1.25e-05,                         base_lr: 0.0025,                         final_lr: 0.000125\n",
            "\u001b[32m[2022-06-16 03:33:44 root]\u001b[0m\u001b[33m(model.py 61)\u001b[0m: INFO OPTIMIZER is defined.\n",
            "\u001b[32m[2022-06-16 03:33:44 root]\u001b[0m\u001b[33m(<ipython-input-17-b0f1d4fcdbdd> 34)\u001b[0m: INFO TOTAL TRAINING TIME 0:18:48\n"
          ]
        }
      ]
    },
    {
      "cell_type": "code",
      "source": [
        "\n",
        "\n"
      ],
      "metadata": {
        "id": "fV0RPOV4chF7"
      },
      "execution_count": null,
      "outputs": []
    }
  ],
  "metadata": {
    "accelerator": "GPU",
    "colab": {
      "name": "Untitled0.ipynb",
      "provenance": [],
      "collapsed_sections": [],
      "authorship_tag": "ABX9TyOIM2tmIXWP4ihWZLg/MLUw",
      "include_colab_link": true
    },
    "gpuClass": "standard",
    "kernelspec": {
      "display_name": "Python 3",
      "name": "python3"
    },
    "language_info": {
      "name": "python"
    },
    "widgets": {
      "application/vnd.jupyter.widget-state+json": {
        "381456e0e4854e1e9ff3dfe009d5b612": {
          "model_module": "@jupyter-widgets/controls",
          "model_name": "HBoxModel",
          "model_module_version": "1.5.0",
          "state": {
            "_dom_classes": [],
            "_model_module": "@jupyter-widgets/controls",
            "_model_module_version": "1.5.0",
            "_model_name": "HBoxModel",
            "_view_count": null,
            "_view_module": "@jupyter-widgets/controls",
            "_view_module_version": "1.5.0",
            "_view_name": "HBoxView",
            "box_style": "",
            "children": [
              "IPY_MODEL_a1886a18738e4958b967ae00308b3dfd",
              "IPY_MODEL_6cf19efc2a434c8c883fc09d38ebeaee",
              "IPY_MODEL_9849e212c23b42d3b6e62e07dd7c9078"
            ],
            "layout": "IPY_MODEL_e23b4c8dba26471789b4ea518830c6d9"
          }
        },
        "a1886a18738e4958b967ae00308b3dfd": {
          "model_module": "@jupyter-widgets/controls",
          "model_name": "HTMLModel",
          "model_module_version": "1.5.0",
          "state": {
            "_dom_classes": [],
            "_model_module": "@jupyter-widgets/controls",
            "_model_module_version": "1.5.0",
            "_model_name": "HTMLModel",
            "_view_count": null,
            "_view_module": "@jupyter-widgets/controls",
            "_view_module_version": "1.5.0",
            "_view_name": "HTMLView",
            "description": "",
            "description_tooltip": null,
            "layout": "IPY_MODEL_c2c28732e9924591957fc90b4cae76b7",
            "placeholder": "​",
            "style": "IPY_MODEL_e18de1b62e484771831b92e61f81215b",
            "value": ""
          }
        },
        "6cf19efc2a434c8c883fc09d38ebeaee": {
          "model_module": "@jupyter-widgets/controls",
          "model_name": "FloatProgressModel",
          "model_module_version": "1.5.0",
          "state": {
            "_dom_classes": [],
            "_model_module": "@jupyter-widgets/controls",
            "_model_module_version": "1.5.0",
            "_model_name": "FloatProgressModel",
            "_view_count": null,
            "_view_module": "@jupyter-widgets/controls",
            "_view_module_version": "1.5.0",
            "_view_name": "ProgressView",
            "bar_style": "success",
            "description": "",
            "description_tooltip": null,
            "layout": "IPY_MODEL_d0ae37c9718f48f8b7aeca6101c32d08",
            "max": 170498071,
            "min": 0,
            "orientation": "horizontal",
            "style": "IPY_MODEL_88933d3b2780485db6ae09dc33ae8474",
            "value": 170498071
          }
        },
        "9849e212c23b42d3b6e62e07dd7c9078": {
          "model_module": "@jupyter-widgets/controls",
          "model_name": "HTMLModel",
          "model_module_version": "1.5.0",
          "state": {
            "_dom_classes": [],
            "_model_module": "@jupyter-widgets/controls",
            "_model_module_version": "1.5.0",
            "_model_name": "HTMLModel",
            "_view_count": null,
            "_view_module": "@jupyter-widgets/controls",
            "_view_module_version": "1.5.0",
            "_view_name": "HTMLView",
            "description": "",
            "description_tooltip": null,
            "layout": "IPY_MODEL_ac577eba61f4469fbd8696b6c13cd8c9",
            "placeholder": "​",
            "style": "IPY_MODEL_784f61ace0a540059debb0513e803e49",
            "value": " 170499072/? [00:03&lt;00:00, 49576468.37it/s]"
          }
        },
        "e23b4c8dba26471789b4ea518830c6d9": {
          "model_module": "@jupyter-widgets/base",
          "model_name": "LayoutModel",
          "model_module_version": "1.2.0",
          "state": {
            "_model_module": "@jupyter-widgets/base",
            "_model_module_version": "1.2.0",
            "_model_name": "LayoutModel",
            "_view_count": null,
            "_view_module": "@jupyter-widgets/base",
            "_view_module_version": "1.2.0",
            "_view_name": "LayoutView",
            "align_content": null,
            "align_items": null,
            "align_self": null,
            "border": null,
            "bottom": null,
            "display": null,
            "flex": null,
            "flex_flow": null,
            "grid_area": null,
            "grid_auto_columns": null,
            "grid_auto_flow": null,
            "grid_auto_rows": null,
            "grid_column": null,
            "grid_gap": null,
            "grid_row": null,
            "grid_template_areas": null,
            "grid_template_columns": null,
            "grid_template_rows": null,
            "height": null,
            "justify_content": null,
            "justify_items": null,
            "left": null,
            "margin": null,
            "max_height": null,
            "max_width": null,
            "min_height": null,
            "min_width": null,
            "object_fit": null,
            "object_position": null,
            "order": null,
            "overflow": null,
            "overflow_x": null,
            "overflow_y": null,
            "padding": null,
            "right": null,
            "top": null,
            "visibility": null,
            "width": null
          }
        },
        "c2c28732e9924591957fc90b4cae76b7": {
          "model_module": "@jupyter-widgets/base",
          "model_name": "LayoutModel",
          "model_module_version": "1.2.0",
          "state": {
            "_model_module": "@jupyter-widgets/base",
            "_model_module_version": "1.2.0",
            "_model_name": "LayoutModel",
            "_view_count": null,
            "_view_module": "@jupyter-widgets/base",
            "_view_module_version": "1.2.0",
            "_view_name": "LayoutView",
            "align_content": null,
            "align_items": null,
            "align_self": null,
            "border": null,
            "bottom": null,
            "display": null,
            "flex": null,
            "flex_flow": null,
            "grid_area": null,
            "grid_auto_columns": null,
            "grid_auto_flow": null,
            "grid_auto_rows": null,
            "grid_column": null,
            "grid_gap": null,
            "grid_row": null,
            "grid_template_areas": null,
            "grid_template_columns": null,
            "grid_template_rows": null,
            "height": null,
            "justify_content": null,
            "justify_items": null,
            "left": null,
            "margin": null,
            "max_height": null,
            "max_width": null,
            "min_height": null,
            "min_width": null,
            "object_fit": null,
            "object_position": null,
            "order": null,
            "overflow": null,
            "overflow_x": null,
            "overflow_y": null,
            "padding": null,
            "right": null,
            "top": null,
            "visibility": null,
            "width": null
          }
        },
        "e18de1b62e484771831b92e61f81215b": {
          "model_module": "@jupyter-widgets/controls",
          "model_name": "DescriptionStyleModel",
          "model_module_version": "1.5.0",
          "state": {
            "_model_module": "@jupyter-widgets/controls",
            "_model_module_version": "1.5.0",
            "_model_name": "DescriptionStyleModel",
            "_view_count": null,
            "_view_module": "@jupyter-widgets/base",
            "_view_module_version": "1.2.0",
            "_view_name": "StyleView",
            "description_width": ""
          }
        },
        "d0ae37c9718f48f8b7aeca6101c32d08": {
          "model_module": "@jupyter-widgets/base",
          "model_name": "LayoutModel",
          "model_module_version": "1.2.0",
          "state": {
            "_model_module": "@jupyter-widgets/base",
            "_model_module_version": "1.2.0",
            "_model_name": "LayoutModel",
            "_view_count": null,
            "_view_module": "@jupyter-widgets/base",
            "_view_module_version": "1.2.0",
            "_view_name": "LayoutView",
            "align_content": null,
            "align_items": null,
            "align_self": null,
            "border": null,
            "bottom": null,
            "display": null,
            "flex": null,
            "flex_flow": null,
            "grid_area": null,
            "grid_auto_columns": null,
            "grid_auto_flow": null,
            "grid_auto_rows": null,
            "grid_column": null,
            "grid_gap": null,
            "grid_row": null,
            "grid_template_areas": null,
            "grid_template_columns": null,
            "grid_template_rows": null,
            "height": null,
            "justify_content": null,
            "justify_items": null,
            "left": null,
            "margin": null,
            "max_height": null,
            "max_width": null,
            "min_height": null,
            "min_width": null,
            "object_fit": null,
            "object_position": null,
            "order": null,
            "overflow": null,
            "overflow_x": null,
            "overflow_y": null,
            "padding": null,
            "right": null,
            "top": null,
            "visibility": null,
            "width": null
          }
        },
        "88933d3b2780485db6ae09dc33ae8474": {
          "model_module": "@jupyter-widgets/controls",
          "model_name": "ProgressStyleModel",
          "model_module_version": "1.5.0",
          "state": {
            "_model_module": "@jupyter-widgets/controls",
            "_model_module_version": "1.5.0",
            "_model_name": "ProgressStyleModel",
            "_view_count": null,
            "_view_module": "@jupyter-widgets/base",
            "_view_module_version": "1.2.0",
            "_view_name": "StyleView",
            "bar_color": null,
            "description_width": ""
          }
        },
        "ac577eba61f4469fbd8696b6c13cd8c9": {
          "model_module": "@jupyter-widgets/base",
          "model_name": "LayoutModel",
          "model_module_version": "1.2.0",
          "state": {
            "_model_module": "@jupyter-widgets/base",
            "_model_module_version": "1.2.0",
            "_model_name": "LayoutModel",
            "_view_count": null,
            "_view_module": "@jupyter-widgets/base",
            "_view_module_version": "1.2.0",
            "_view_name": "LayoutView",
            "align_content": null,
            "align_items": null,
            "align_self": null,
            "border": null,
            "bottom": null,
            "display": null,
            "flex": null,
            "flex_flow": null,
            "grid_area": null,
            "grid_auto_columns": null,
            "grid_auto_flow": null,
            "grid_auto_rows": null,
            "grid_column": null,
            "grid_gap": null,
            "grid_row": null,
            "grid_template_areas": null,
            "grid_template_columns": null,
            "grid_template_rows": null,
            "height": null,
            "justify_content": null,
            "justify_items": null,
            "left": null,
            "margin": null,
            "max_height": null,
            "max_width": null,
            "min_height": null,
            "min_width": null,
            "object_fit": null,
            "object_position": null,
            "order": null,
            "overflow": null,
            "overflow_x": null,
            "overflow_y": null,
            "padding": null,
            "right": null,
            "top": null,
            "visibility": null,
            "width": null
          }
        },
        "784f61ace0a540059debb0513e803e49": {
          "model_module": "@jupyter-widgets/controls",
          "model_name": "DescriptionStyleModel",
          "model_module_version": "1.5.0",
          "state": {
            "_model_module": "@jupyter-widgets/controls",
            "_model_module_version": "1.5.0",
            "_model_name": "DescriptionStyleModel",
            "_view_count": null,
            "_view_module": "@jupyter-widgets/base",
            "_view_module_version": "1.2.0",
            "_view_name": "StyleView",
            "description_width": ""
          }
        }
      }
    }
  },
  "nbformat": 4,
  "nbformat_minor": 0
}